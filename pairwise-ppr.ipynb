{
 "cells": [
  {
   "cell_type": "code",
   "execution_count": 4,
   "id": "65d62ccc-2b95-48d2-acbc-2c5574ecc5e4",
   "metadata": {},
   "outputs": [
    {
     "ename": "FileNotFoundError",
     "evalue": "[Errno 2] No such file or directory: 'sleeper_project.json'",
     "output_type": "error",
     "traceback": [
      "\u001b[0;31m---------------------------------------------------------------------------\u001b[0m",
      "\u001b[0;31mFileNotFoundError\u001b[0m                         Traceback (most recent call last)",
      "\u001b[0;32m/var/folders/w2/0q5xhrf578d2c6cdn9g187jm0000gn/T/ipykernel_32784/3289447826.py\u001b[0m in \u001b[0;36m<module>\u001b[0;34m\u001b[0m\n\u001b[1;32m     12\u001b[0m \u001b[0;34m\u001b[0m\u001b[0m\n\u001b[1;32m     13\u001b[0m \u001b[0;32mfrom\u001b[0m \u001b[0mfunctions\u001b[0m\u001b[0;34m.\u001b[0m\u001b[0mstorage_functions\u001b[0m \u001b[0;32mimport\u001b[0m \u001b[0;34m*\u001b[0m\u001b[0;34m\u001b[0m\u001b[0;34m\u001b[0m\u001b[0m\n\u001b[0;32m---> 14\u001b[0;31m \u001b[0;32mfrom\u001b[0m \u001b[0mfunctions\u001b[0m\u001b[0;34m.\u001b[0m\u001b[0msleeper_functions\u001b[0m \u001b[0;32mimport\u001b[0m \u001b[0;34m*\u001b[0m\u001b[0;34m\u001b[0m\u001b[0;34m\u001b[0m\u001b[0m\n\u001b[0m\u001b[1;32m     15\u001b[0m \u001b[0;34m\u001b[0m\u001b[0m\n\u001b[1;32m     16\u001b[0m \u001b[0;34m\u001b[0m\u001b[0m\n",
      "\u001b[0;32m~/Library/Mobile Documents/com~apple~CloudDocs/github/sleeper-season/functions/sleeper_functions.py\u001b[0m in \u001b[0;36m<module>\u001b[0;34m\u001b[0m\n\u001b[1;32m      1\u001b[0m \u001b[0;32mfrom\u001b[0m \u001b[0mfunctions\u001b[0m\u001b[0;34m.\u001b[0m\u001b[0mstorage_functions\u001b[0m \u001b[0;32mimport\u001b[0m \u001b[0;34m*\u001b[0m\u001b[0;34m\u001b[0m\u001b[0;34m\u001b[0m\u001b[0m\n\u001b[1;32m      2\u001b[0m \u001b[0;32mfrom\u001b[0m \u001b[0mfunctions\u001b[0m\u001b[0;34m.\u001b[0m\u001b[0mff_stats\u001b[0m \u001b[0;32mimport\u001b[0m \u001b[0;34m*\u001b[0m\u001b[0;34m\u001b[0m\u001b[0;34m\u001b[0m\u001b[0m\n\u001b[0;32m----> 3\u001b[0;31m \u001b[0;32mfrom\u001b[0m \u001b[0mfunctions\u001b[0m\u001b[0;34m.\u001b[0m\u001b[0mlogsheets\u001b[0m \u001b[0;32mimport\u001b[0m \u001b[0;34m*\u001b[0m\u001b[0;34m\u001b[0m\u001b[0;34m\u001b[0m\u001b[0m\n\u001b[0m\u001b[1;32m      4\u001b[0m \u001b[0;32mfrom\u001b[0m \u001b[0mdatetime\u001b[0m \u001b[0;32mimport\u001b[0m \u001b[0mdatetime\u001b[0m\u001b[0;34m,\u001b[0m \u001b[0mtimedelta\u001b[0m\u001b[0;34m\u001b[0m\u001b[0;34m\u001b[0m\u001b[0m\n\u001b[1;32m      5\u001b[0m \u001b[0;32mimport\u001b[0m \u001b[0mpandas\u001b[0m \u001b[0;32mas\u001b[0m \u001b[0mpd\u001b[0m\u001b[0;34m\u001b[0m\u001b[0;34m\u001b[0m\u001b[0m\n",
      "\u001b[0;32m~/Library/Mobile Documents/com~apple~CloudDocs/github/sleeper-season/functions/logsheets.py\u001b[0m in \u001b[0;36m<module>\u001b[0;34m\u001b[0m\n\u001b[1;32m     11\u001b[0m scope = ['https://spreadsheets.google.com/feeds',\n\u001b[1;32m     12\u001b[0m      'https://www.googleapis.com/auth/drive']\n\u001b[0;32m---> 13\u001b[0;31m \u001b[0mcredentials\u001b[0m \u001b[0;34m=\u001b[0m \u001b[0mServiceAccountCredentials\u001b[0m\u001b[0;34m.\u001b[0m\u001b[0mfrom_json_keyfile_name\u001b[0m\u001b[0;34m(\u001b[0m\u001b[0mcred\u001b[0m\u001b[0;34m,\u001b[0m \u001b[0mscope\u001b[0m\u001b[0;34m)\u001b[0m\u001b[0;34m\u001b[0m\u001b[0;34m\u001b[0m\u001b[0m\n\u001b[0m\u001b[1;32m     14\u001b[0m \u001b[0;34m\u001b[0m\u001b[0m\n\u001b[1;32m     15\u001b[0m \u001b[0;32mdef\u001b[0m \u001b[0mopen_spreadsheet\u001b[0m\u001b[0;34m(\u001b[0m\u001b[0;34m)\u001b[0m\u001b[0;34m:\u001b[0m\u001b[0;34m\u001b[0m\u001b[0;34m\u001b[0m\u001b[0m\n",
      "\u001b[0;32m~/opt/anaconda3/lib/python3.9/site-packages/oauth2client/service_account.py\u001b[0m in \u001b[0;36mfrom_json_keyfile_name\u001b[0;34m(cls, filename, scopes, token_uri, revoke_uri)\u001b[0m\n\u001b[1;32m    217\u001b[0m                 \u001b[0mthe\u001b[0m \u001b[0mkeyfile\u001b[0m\u001b[0;34m.\u001b[0m\u001b[0;34m\u001b[0m\u001b[0;34m\u001b[0m\u001b[0m\n\u001b[1;32m    218\u001b[0m         \"\"\"\n\u001b[0;32m--> 219\u001b[0;31m         \u001b[0;32mwith\u001b[0m \u001b[0mopen\u001b[0m\u001b[0;34m(\u001b[0m\u001b[0mfilename\u001b[0m\u001b[0;34m,\u001b[0m \u001b[0;34m'r'\u001b[0m\u001b[0;34m)\u001b[0m \u001b[0;32mas\u001b[0m \u001b[0mfile_obj\u001b[0m\u001b[0;34m:\u001b[0m\u001b[0;34m\u001b[0m\u001b[0;34m\u001b[0m\u001b[0m\n\u001b[0m\u001b[1;32m    220\u001b[0m             \u001b[0mclient_credentials\u001b[0m \u001b[0;34m=\u001b[0m \u001b[0mjson\u001b[0m\u001b[0;34m.\u001b[0m\u001b[0mload\u001b[0m\u001b[0;34m(\u001b[0m\u001b[0mfile_obj\u001b[0m\u001b[0;34m)\u001b[0m\u001b[0;34m\u001b[0m\u001b[0;34m\u001b[0m\u001b[0m\n\u001b[1;32m    221\u001b[0m         return cls._from_parsed_json_keyfile(client_credentials, scopes,\n",
      "\u001b[0;31mFileNotFoundError\u001b[0m: [Errno 2] No such file or directory: 'sleeper_project.json'"
     ]
    }
   ],
   "source": [
    "import pandas\n",
    "import choix\n",
    "import http.client, urllib.request, urllib.parse\n",
    "import itertools\n",
    "from random import sample\n",
    "from datetime import datetime\n",
    "\n",
    "import http.client, urllib.request, urllib.parse\n",
    "from oauth2client.service_account import ServiceAccountCredentials\n",
    "from gspread_dataframe import set_with_dataframe\n",
    "import gspread\n",
    "\n",
    "from functions.storage_functions import *\n",
    "from functions.sleeper_functions import *\n",
    "\n",
    "\n",
    "run_start = datetime.now()\n",
    "print(str(run_start))"
   ]
  },
  {
   "cell_type": "code",
   "execution_count": 106,
   "id": "9a65f352-ccb2-42fb-96a4-f1e60fc0a86e",
   "metadata": {},
   "outputs": [
    {
     "name": "stdout",
     "output_type": "stream",
     "text": [
      "Players already up to date.\n"
     ]
    }
   ],
   "source": [
    "players = update_players()"
   ]
  },
  {
   "cell_type": "code",
   "execution_count": 107,
   "id": "185d52e8-aa8d-4fa2-a067-48b69982a298",
   "metadata": {},
   "outputs": [],
   "source": [
    "#Params\n",
    "week_id = 2\n",
    "\n",
    "scoring = 'ppr'\n",
    "scoring = scoring.lower()\n",
    "\n",
    "sf = True\n",
    "\n",
    "limit = 1000"
   ]
  },
  {
   "cell_type": "code",
   "execution_count": 108,
   "id": "46ddfcfc-b92e-4ca7-9ab6-49abb54ea584",
   "metadata": {},
   "outputs": [],
   "source": [
    "active = pd.read_csv('Files/active_leagues.csv')\n",
    "active = active[active['scoring_type'] == scoring]\n",
    "active = active[active['is_superflex'] == sf]\n",
    "active = active[active['transactions'] >= 7]\n",
    "active = active[active['week'] == week_id]"
   ]
  },
  {
   "cell_type": "code",
   "execution_count": 109,
   "id": "17dc6bd8-13a7-4578-9cd5-b02dca4135e0",
   "metadata": {},
   "outputs": [
    {
     "data": {
      "text/plain": [
       "871"
      ]
     },
     "execution_count": 109,
     "metadata": {},
     "output_type": "execute_result"
    }
   ],
   "source": [
    "len(active)"
   ]
  },
  {
   "cell_type": "code",
   "execution_count": 110,
   "id": "b7d82425-0eaf-4158-a163-0842609135e0",
   "metadata": {},
   "outputs": [
    {
     "data": {
      "text/plain": [
       "871"
      ]
     },
     "execution_count": 110,
     "metadata": {},
     "output_type": "execute_result"
    }
   ],
   "source": [
    "league_list = active.league_id.to_list()\n",
    "\n",
    "league_count = len(league_list)\n",
    "\n",
    "if limit == None:\n",
    "    league_list == league_list\n",
    "elif limit > league_count:\n",
    "    league_list == league_list\n",
    "else:\n",
    "    league_list = league_list[:limit]\n",
    "    \n",
    "league_count = len(league_list)\n",
    "league_count"
   ]
  },
  {
   "cell_type": "code",
   "execution_count": 111,
   "id": "41d5a5f3-48ba-4ebc-bd26-c9e470a1df09",
   "metadata": {},
   "outputs": [],
   "source": [
    "conn = http.client.HTTPSConnection('api.sleeper.app')\n",
    "\n",
    "league_count = len(league_list)\n",
    "dec = league_count * .1\n",
    "\n",
    "lineup_t = pd.DataFrame()\n",
    "errors = []\n",
    "\n",
    "wr = pd.DataFrame()\n",
    "rb = pd.DataFrame()\n",
    "te = pd.DataFrame()\n",
    "qb = pd.DataFrame()\n",
    "defense = pd.DataFrame()\n",
    "k = pd.DataFrame()\n",
    "flex = pd.DataFrame()\n",
    "superf = pd.DataFrame()\n",
    "positions = ['WR', 'RB', 'TE', 'QB', 'FLEX']#, 'SUPER']#, 'K', 'DEF']\n",
    "sup = ''\n",
    "\n",
    "if sf == True:\n",
    "    positions.remove('FLEX')\n",
    "    positions.append('SUPER')\n",
    "    sup = ' Super'\n",
    "\n",
    "i = 0"
   ]
  },
  {
   "cell_type": "code",
   "execution_count": 112,
   "id": "996af053-e9a0-4c9e-bbe5-60114c5f5ab0",
   "metadata": {},
   "outputs": [
    {
     "name": "stdout",
     "output_type": "stream",
     "text": [
      "Getting lineups from 871 leagues.\n",
      "Total Errors: 0\n"
     ]
    }
   ],
   "source": [
    "print(\"Getting lineups from \" + str(league_count) + \" leagues.\")\n",
    "for league in league_list:\n",
    "    i += 1\n",
    "    try:\n",
    "        \n",
    "        conn.request(\"GET\", '/v1/league/' + str(league) + '/matchups/' + str(week_id))\n",
    "        start_conn = conn.getresponse().read()\n",
    "        start = json.loads(start_conn)\n",
    "        \n",
    "        lineups = pd.DataFrame(start)\n",
    "        \n",
    "        if len(lineups) > 0:\n",
    "            lineup = lineups.players.apply(pd.Series).transpose()\n",
    "            lineup = lineup.melt(var_name='team_id', value_name='player_id')\n",
    "            starters = lineups.starters.apply(pd.Series)\n",
    "            starters = starters.melt(var_name='starter_slot', value_name='player_id')\n",
    "            lineup = lineup.merge(starters, on='player_id', how='left')\n",
    "\n",
    "\n",
    "            players['player_id'] = players['player_id'].astype(str)\n",
    "\n",
    "            lineup = lineup.merge(players[['player_id','full_name','position']], on='player_id', how = 'left')\n",
    "            lineup['full_name'] = np.where(lineup['position'] == 'DEF', lineup['player_id'], lineup['full_name'])\n",
    "            lineup = lineup.dropna(subset=['player_id'])\n",
    "\n",
    "            lineup['start_flag'] = np.where(lineup['starter_slot'] >= 0, 1, 0)\n",
    "\n",
    "            teams = lineup['team_id'].drop_duplicates()\n",
    "\n",
    "\n",
    "            lineup_t = lineup_t.append(lineup)\n",
    "\n",
    "            for team in teams:\n",
    "\n",
    "                for position in positions:\n",
    "\n",
    "                    line = lineup[lineup['team_id'] == team]\n",
    "                    #flex = line[line['position'].isin(['RB','WR','TE'])]\n",
    "                    if position == \"SUPER\":\n",
    "                        pos = line[line['position'].isin(['QB','RB','WR','TE'])]\n",
    "                    elif position == \"FLEX\":\n",
    "                        pos = line[line['position'].isin(['RB','WR','TE'])]\n",
    "                    else:\n",
    "                        pos = line[line['position'] == position]\n",
    "\n",
    "                    flex_s = pos[pos['start_flag'] == 1]\n",
    "                    flex_b = pos[pos['start_flag'] == 0]\n",
    "\n",
    "                    poslist = list(itertools.product(flex_s['player_id'].astype(str), flex_b['player_id'].astype(str)))\n",
    "\n",
    "                    df = pd.DataFrame(poslist, columns = ['starters', 'bench'])\n",
    "\n",
    "                    if position == 'WR':\n",
    "                        wr = wr.append(df).reset_index(drop=True)\n",
    "                    elif position == 'RB':\n",
    "                        rb = rb.append(df).reset_index(drop=True)\n",
    "                    elif position == 'TE':\n",
    "                        te = te.append(df).reset_index(drop=True)\n",
    "                    elif position == 'QB':\n",
    "                        qb = qb.append(df).reset_index(drop=True)\n",
    "                    elif position == 'FLEX':\n",
    "                        flex = flex.append(df).reset_index(drop=True)  \n",
    "                    elif position == 'SUPER':\n",
    "                        superf = superf.append(df).reset_index(drop=True)\n",
    "        else:\n",
    "            errors.append(league)\n",
    "    except IOError as e:\n",
    "        #print(\"skipped league \" + str(league) + \" \" + str(i))\n",
    "        errors.append(league)\n",
    "        #print(\"I/O error({0}): {1}\".format(e.errno, e.strerror))\n",
    "        continue\n",
    "\n",
    "\n",
    "error_df = pd.DataFrame(errors, columns=['leagues'])\n",
    "\n",
    "print('Total Errors: ' + str(len(error_df)))"
   ]
  },
  {
   "cell_type": "code",
   "execution_count": 113,
   "id": "eaa0bdfb-48c0-4683-ab63-400f361fd77e",
   "metadata": {},
   "outputs": [],
   "source": [
    "lineup_cnt = lineup_t.groupby('player_id').agg({'team_id':'count'}).reset_index()\n",
    "lineup_cnt['ratio'] = lineup_cnt['team_id'] / league_count"
   ]
  },
  {
   "cell_type": "code",
   "execution_count": 114,
   "id": "3ee859b3-f23b-43a0-bbea-1b9c75c53960",
   "metadata": {},
   "outputs": [
    {
     "name": "stdout",
     "output_type": "stream",
     "text": [
      "Ranking players. This takes time.\n",
      "-- WR\n",
      "---- Running model\n",
      "---- Ranking...\n"
     ]
    },
    {
     "name": "stderr",
     "output_type": "stream",
     "text": [
      "<ipython-input-114-c83751dcda81>:108: SettingWithCopyWarning: \n",
      "A value is trying to be set on a copy of a slice from a DataFrame.\n",
      "Try using .loc[row_indexer,col_indexer] = value instead\n",
      "\n",
      "See the caveats in the documentation: https://pandas.pydata.org/pandas-docs/stable/user_guide/indexing.html#returning-a-view-versus-a-copy\n",
      "  names['player_id'] = names['player_id'].astype(str)\n"
     ]
    },
    {
     "name": "stdout",
     "output_type": "stream",
     "text": [
      "---- Ranked WR. Time: 0:00:24.068693\n",
      "-- RB\n",
      "---- Running model\n",
      "---- Ranking...\n"
     ]
    },
    {
     "name": "stderr",
     "output_type": "stream",
     "text": [
      "<ipython-input-114-c83751dcda81>:108: SettingWithCopyWarning: \n",
      "A value is trying to be set on a copy of a slice from a DataFrame.\n",
      "Try using .loc[row_indexer,col_indexer] = value instead\n",
      "\n",
      "See the caveats in the documentation: https://pandas.pydata.org/pandas-docs/stable/user_guide/indexing.html#returning-a-view-versus-a-copy\n",
      "  names['player_id'] = names['player_id'].astype(str)\n"
     ]
    },
    {
     "name": "stdout",
     "output_type": "stream",
     "text": [
      "---- Ranked RB. Time: 0:00:04.318262\n",
      "-- TE\n",
      "---- Running model\n",
      "---- Ranking...\n"
     ]
    },
    {
     "name": "stderr",
     "output_type": "stream",
     "text": [
      "<ipython-input-114-c83751dcda81>:108: SettingWithCopyWarning: \n",
      "A value is trying to be set on a copy of a slice from a DataFrame.\n",
      "Try using .loc[row_indexer,col_indexer] = value instead\n",
      "\n",
      "See the caveats in the documentation: https://pandas.pydata.org/pandas-docs/stable/user_guide/indexing.html#returning-a-view-versus-a-copy\n",
      "  names['player_id'] = names['player_id'].astype(str)\n"
     ]
    },
    {
     "name": "stdout",
     "output_type": "stream",
     "text": [
      "---- Ranked TE. Time: 0:00:00.205384\n",
      "-- QB\n",
      "---- Running model\n",
      "---- Ranking...\n"
     ]
    },
    {
     "name": "stderr",
     "output_type": "stream",
     "text": [
      "<ipython-input-114-c83751dcda81>:108: SettingWithCopyWarning: \n",
      "A value is trying to be set on a copy of a slice from a DataFrame.\n",
      "Try using .loc[row_indexer,col_indexer] = value instead\n",
      "\n",
      "See the caveats in the documentation: https://pandas.pydata.org/pandas-docs/stable/user_guide/indexing.html#returning-a-view-versus-a-copy\n",
      "  names['player_id'] = names['player_id'].astype(str)\n"
     ]
    },
    {
     "name": "stdout",
     "output_type": "stream",
     "text": [
      "---- Ranked QB. Time: 0:00:00.518575\n",
      "-- SUPER\n",
      "---- Running model\n",
      "---- Ranking...\n"
     ]
    },
    {
     "name": "stderr",
     "output_type": "stream",
     "text": [
      "<ipython-input-114-c83751dcda81>:108: SettingWithCopyWarning: \n",
      "A value is trying to be set on a copy of a slice from a DataFrame.\n",
      "Try using .loc[row_indexer,col_indexer] = value instead\n",
      "\n",
      "See the caveats in the documentation: https://pandas.pydata.org/pandas-docs/stable/user_guide/indexing.html#returning-a-view-versus-a-copy\n",
      "  names['player_id'] = names['player_id'].astype(str)\n"
     ]
    },
    {
     "name": "stdout",
     "output_type": "stream",
     "text": [
      "---- Ranked SUPER. Time: 1:43:02.695898\n",
      "Finished. 1:43:36.790370 | Full run: 1:53:42.874472\n"
     ]
    }
   ],
   "source": [
    "print(\"Ranking players. This takes time.\") \n",
    "directory = 'PairRanks/' + str(scoring) + sup + '/'\n",
    "start_time = datetime.now()\n",
    "d = pd.read_csv('PairRanks/data.csv')\n",
    "\n",
    "cred = 'sleeper_project.json'\n",
    "scope = ['https://spreadsheets.google.com/feeds',\n",
    "     'https://www.googleapis.com/auth/drive']\n",
    "credentials = ServiceAccountCredentials.from_json_keyfile_name(cred, scope)\n",
    "\n",
    "\n",
    "pb = '1WXY_aSqjzT8aRMrBGgzvTMFCI0Pa8eqSssIY1IM4xLQ'\n",
    "gc = gspread.authorize(credentials)\n",
    "book = gc.open_by_key(pb)\n",
    "\n",
    "\n",
    "for position in positions:    \n",
    "    \n",
    "    pos_time = datetime.now()\n",
    "    \n",
    "    file = directory + position + '.csv'\n",
    "    \n",
    "    print(\"-- \" + position)\n",
    "    if position == 'WR':\n",
    "        prefs = wr.copy()\n",
    "    elif position == 'RB':\n",
    "        prefs = rb.copy()\n",
    "    elif position == 'TE':\n",
    "        prefs = te.copy()\n",
    "    elif position == 'QB':\n",
    "        prefs = qb.copy()\n",
    "    elif position == 'FLEX':\n",
    "        prefs = flex.copy()\n",
    "    elif position == 'SUPER':\n",
    "        prefs = superf.copy()\n",
    "    \n",
    "    prefs = prefs.astype(str).merge(lineup_cnt[['player_id', 'ratio']], left_on='starters', right_on='player_id', how='left').drop_duplicates()\n",
    "    prefs = prefs.astype(str).merge(lineup_cnt[['player_id', 'ratio']], left_on='bench', right_on='player_id', how='left').drop_duplicates()\n",
    "    prefs = prefs[(prefs['ratio_y'] >= .2) & (prefs['ratio_x'].astype(float) >= .2)]\n",
    "    prefs = prefs[['starters','bench']]\n",
    "    prefs = prefs.astype(str)\n",
    "    \n",
    "    sl = prefs['starters'].value_counts().reset_index()\n",
    "    sl.columns = ['player_id', 'starts']\n",
    "    bl = prefs['bench'].value_counts().reset_index()\n",
    "    bl.columns = ['player_id', 'benches']\n",
    "    counts = sl.merge(bl, on='player_id', how= 'left')\n",
    "    counts = counts.fillna(0)\n",
    "    #counts['starts'] = np.where(counts['starts'] == np.nan, 0, counts['starts'])\n",
    "    #counts['benches'] = np.where(counts['benches'] == np.nan, 0, counts['benches'])\n",
    "    counts['rosters'] = counts['starts'] + counts['benches']\n",
    "    counts = counts[counts['rosters'] >= dec]\n",
    "    counts['diff'] = counts['starts'] - counts['benches']\n",
    "    counts['diff'] = np.where(counts['diff'] == np.nan, 0, counts['diff'])\n",
    "    counts['ratio'] = counts['diff'] / (counts['starts'] + counts['benches'])\n",
    "    counts['score'] = counts['ratio'] * counts['starts']\n",
    "\n",
    "    indx = prefs[['starters']]\n",
    "    bnch = prefs[['bench']]\n",
    "    bnch.columns = ['starters']\n",
    "    indx = indx.append(bnch)\n",
    "    \n",
    "    indx = indx.drop_duplicates().reset_index(drop=True)\n",
    "    indx['iid'] = indx.index\n",
    "    indx['iid'] = indx['iid'].astype(str)\n",
    "    \n",
    "    \n",
    "    \n",
    "    prefs = prefs.merge(indx, on='starters', how='left')\n",
    "    prefs = prefs.merge(indx, left_on='bench', right_on='starters', how = 'left')\n",
    "    prefs.columns = ['starters', 'bench','sid', 'drop','bid']\n",
    "    prefs = prefs.drop('drop', axis=1)\n",
    "    prefs = prefs.dropna(subset=['bid'])\n",
    "    prefs = prefs.astype(int)\n",
    "    prefs = prefs.reset_index(drop=True)\n",
    "    \n",
    "    prefs.to_csv(directory + 'prefs.csv')\n",
    "    \n",
    "    comp_ids = prefs[['sid','bid']]\n",
    "    \n",
    "    #n_items = max(comp_ids['sid'])\n",
    "    \n",
    "    \n",
    "    pairs = list(comp_ids.itertuples(index=False, name=None))\n",
    "    \n",
    "    #graph = nx.DiGraph(data=pairs)\n",
    "    #nx.draw(graph, with_labels=True)\n",
    "    \n",
    "    n_items = len(pairs)\n",
    "    #params = choix.ilsr_pairwise(n_items, pairs)\n",
    "    \n",
    "    \n",
    "\n",
    "    print(\"---- Running model\")\n",
    "    test = choix.ilsr_pairwise(n_items, pairs, 0.001)\n",
    "    \n",
    "    print(\"---- Ranking...\")\n",
    "    ranking = np.argsort(-test)\n",
    "\n",
    "    ranked = pd.DataFrame(ranking, columns=['sid'])\n",
    "    ranked = ranked.merge(prefs[['sid', 'starters']], on = 'sid', how='left')\n",
    "    ranked = ranked.drop_duplicates().reset_index(drop=True)\n",
    "    ranked = ranked.dropna(subset=['starters'])\n",
    "    ranked['starters'] = ranked['starters'].astype(int)\n",
    "    ranked['starters'] = ranked['starters'].astype(str)\n",
    "   \n",
    "    names = players[['player_id', 'full_name']]\n",
    "    names['player_id'] = names['player_id'].astype(str)\n",
    "   \n",
    "    ranked = ranked.merge(names, left_on='starters', right_on='player_id', how='left')\n",
    "    ranked['rank'] = ranked.index + 1\n",
    "    \n",
    "    rankings = ranked[['rank','full_name']]\n",
    "    rankings.columns = ['Rank', 'Player']\n",
    "\n",
    "    counts = counts.merge(names, on = 'player_id', how='left')\n",
    "    counts = counts[['player_id','full_name','starts','diff','ratio','score']]\n",
    "    counts = counts.sort_values(by=['ratio', 'score'], ascending=[False,False])\n",
    "\n",
    "    \n",
    "    ranked = ranked.merge(counts, on='player_id', how='left')\n",
    "    ranked = ranked[['rank','player_id','full_name_x','starts','diff','ratio','score']]\n",
    "    ranked.columns = ['rank','player_id','full_name','starts','diff','ratio','score']\n",
    "    \n",
    "    ranked.to_csv(file, index=False)\n",
    "    \n",
    "    fin = str(datetime.now() - pos_time)\n",
    "    sz = len(prefs)\n",
    "    datum = [[scoring+sup, position, limit, sz, fin]]\n",
    "    d2 = pd.DataFrame(datum, columns=['scoring','position','limit','size','time'])\n",
    "    d = d.append(d2)\n",
    "    \n",
    "    \n",
    "    \n",
    "    sheet = book.worksheet(scoring.upper()+'-'+position)\n",
    "    sheet.clear()\n",
    "    set_with_dataframe(sheet, ranked, include_index=False)\n",
    "    \n",
    "    \n",
    "    \n",
    "    print(\"---- Ranked \" + position + \". Time: \"+ fin)\n",
    "    #print(counts)\n",
    "\n",
    "print(\"Finished. \" + str(datetime.now() - start_time) + \" | Full run: \" + str(datetime.now()-run_start))\n",
    "d.to_csv('PairRanks/data.csv',index=False)"
   ]
  },
  {
   "cell_type": "markdown",
   "id": "e63c19f2-bf85-4afb-bef0-89f464ecf8af",
   "metadata": {
    "tags": []
   },
   "source": [
    "#### Update Google Sheet"
   ]
  },
  {
   "cell_type": "code",
   "execution_count": 14,
   "id": "ba646dcb-95b1-4b87-8f83-b056f83b0fd7",
   "metadata": {},
   "outputs": [],
   "source": [
    "import http.client, urllib.request, urllib.parse\n",
    "from oauth2client.service_account import ServiceAccountCredentials\n",
    "from gspread_dataframe import set_with_dataframe\n",
    "import gspread"
   ]
  },
  {
   "cell_type": "code",
   "execution_count": 65,
   "id": "85ce5448-c665-4418-bd4a-2a1cbb8373d3",
   "metadata": {},
   "outputs": [],
   "source": [
    "sheet = book.worksheet(scoring.upper()+'-'+position)\n",
    "sheet.clear()\n",
    "set_with_dataframe(sheet, ranked, include_index=False)"
   ]
  },
  {
   "cell_type": "code",
   "execution_count": null,
   "id": "eb7c6bcf-aa80-4d5b-97ed-9d2beceb6e53",
   "metadata": {},
   "outputs": [],
   "source": [
    "cred = 'sleeper_project.json'\n",
    "scope = ['https://spreadsheets.google.com/feeds',\n",
    "     'https://www.googleapis.com/auth/drive']\n",
    "credentials = ServiceAccountCredentials.from_json_keyfile_name(cred, scope)\n",
    "\n",
    "\n",
    "pb = '1WXY_aSqjzT8aRMrBGgzvTMFCI0Pa8eqSssIY1IM4xLQ'\n",
    "gc = gspread.authorize(credentials)\n",
    "book = gc.open_by_key(pb)\n",
    "\n",
    "for position in positions:\n",
    "    sheet = book.worksheet(scoring.upper()+'-'+position)\n",
    "    sheet.clear()\n",
    "    set_with_dataframe(sheet, df[df['active'] != 'True'], include_index=False)\n",
    "    "
   ]
  }
 ],
 "metadata": {
  "kernelspec": {
   "display_name": "Python 3 (ipykernel)",
   "language": "python",
   "name": "python3"
  },
  "language_info": {
   "codemirror_mode": {
    "name": "ipython",
    "version": 3
   },
   "file_extension": ".py",
   "mimetype": "text/x-python",
   "name": "python",
   "nbconvert_exporter": "python",
   "pygments_lexer": "ipython3",
   "version": "3.9.7"
  }
 },
 "nbformat": 4,
 "nbformat_minor": 5
}
